{
  "cells": [
    {
      "cell_type": "markdown",
      "metadata": {
        "id": "view-in-github",
        "colab_type": "text"
      },
      "source": [
        "<a href=\"https://colab.research.google.com/github/ayachaieb/fruit-detection-and-counting/blob/main/yolomodel.ipynb\" target=\"_parent\"><img src=\"https://colab.research.google.com/assets/colab-badge.svg\" alt=\"Open In Colab\"/></a>"
      ]
    },
    {
      "cell_type": "code",
      "execution_count": null,
      "metadata": {
        "colab": {
          "base_uri": "https://localhost:8080/"
        },
        "id": "wqV_Aci3SN49",
        "outputId": "30209cf3-536d-4da0-e3b4-b4f778c91a3e"
      },
      "outputs": [
        {
          "name": "stdout",
          "output_type": "stream",
          "text": [
            "Tue Jun 18 04:24:37 2024       \n",
            "+---------------------------------------------------------------------------------------+\n",
            "| NVIDIA-SMI 535.104.05             Driver Version: 535.104.05   CUDA Version: 12.2     |\n",
            "|-----------------------------------------+----------------------+----------------------+\n",
            "| GPU  Name                 Persistence-M | Bus-Id        Disp.A | Volatile Uncorr. ECC |\n",
            "| Fan  Temp   Perf          Pwr:Usage/Cap |         Memory-Usage | GPU-Util  Compute M. |\n",
            "|                                         |                      |               MIG M. |\n",
            "|=========================================+======================+======================|\n",
            "|   0  Tesla T4                       Off | 00000000:00:04.0 Off |                    0 |\n",
            "| N/A   45C    P8               9W /  70W |      0MiB / 15360MiB |      0%      Default |\n",
            "|                                         |                      |                  N/A |\n",
            "+-----------------------------------------+----------------------+----------------------+\n",
            "                                                                                         \n",
            "+---------------------------------------------------------------------------------------+\n",
            "| Processes:                                                                            |\n",
            "|  GPU   GI   CI        PID   Type   Process name                            GPU Memory |\n",
            "|        ID   ID                                                             Usage      |\n",
            "|=======================================================================================|\n",
            "|  No running processes found                                                           |\n",
            "+---------------------------------------------------------------------------------------+\n"
          ]
        }
      ],
      "source": [
        "!nvidia-smi\n"
      ]
    },
    {
      "cell_type": "code",
      "execution_count": null,
      "metadata": {
        "colab": {
          "base_uri": "https://localhost:8080/"
        },
        "id": "67bmq_QiTHnc",
        "outputId": "acfa3acc-6cec-401b-c23e-f0c5149d4ed1"
      },
      "outputs": [
        {
          "name": "stderr",
          "output_type": "stream",
          "text": [
            "Ultralytics YOLOv8.0.20 🚀 Python-3.10.12 torch-2.3.0+cu121 CUDA:0 (Tesla T4, 15102MiB)\n",
            "Setup complete ✅ (2 CPUs, 12.7 GB RAM, 30.2/78.2 GB disk)\n"
          ]
        }
      ],
      "source": [
        "# Pip install method (recommended)\n",
        "\n",
        "!pip install ultralytics==8.0.20\n",
        "\n",
        "from IPython import display\n",
        "display.clear_output()\n",
        "\n",
        "import ultralytics\n",
        "ultralytics.checks()"
      ]
    },
    {
      "cell_type": "code",
      "execution_count": null,
      "metadata": {
        "id": "1OhFLQytfSv9"
      },
      "outputs": [],
      "source": [
        "from ultralytics import YOLO\n",
        "\n",
        "from IPython.display import display, Image"
      ]
    },
    {
      "cell_type": "code",
      "execution_count": null,
      "metadata": {
        "colab": {
          "base_uri": "https://localhost:8080/"
        },
        "id": "NUJ7Pyx3frIt",
        "outputId": "17ff4a86-8740-4df5-d514-84b134caa5de"
      },
      "outputs": [
        {
          "name": "stdout",
          "output_type": "stream",
          "text": [
            "Mounted at /content/drive\n"
          ]
        }
      ],
      "source": [
        "\n",
        "from google.colab import drive\n",
        "drive.mount('/content/drive')\n"
      ]
    },
    {
      "cell_type": "code",
      "execution_count": null,
      "metadata": {
        "colab": {
          "base_uri": "https://localhost:8080/"
        },
        "id": "Gx3Au5jffyMa",
        "outputId": "bd25844e-1461-49c2-c87f-033cf3d0a5b4"
      },
      "outputs": [
        {
          "name": "stdout",
          "output_type": "stream",
          "text": [
            "/content/drive/MyDrive/my cv/dataset_fruit_detection\n"
          ]
        }
      ],
      "source": [
        "%cd /content/drive/MyDrive/my cv/dataset_fruit_detection"
      ]
    },
    {
      "cell_type": "code",
      "execution_count": null,
      "metadata": {
        "id": "42w1kj-bmOoC"
      },
      "outputs": [],
      "source": [
        "import os\n",
        "import shutil\n",
        "import pandas as pd\n",
        "import random\n",
        "\n",
        "# Set up the source and destination paths\n",
        "source_images_dir = \"/content/drive/MyDrive/acfr-fruit-dataset/apples/images\"\n",
        "source_annotations_dir = \"/content/drive/MyDrive/acfr-fruit-dataset/apples/annotations\"\n",
        "destination_dir = \"apples_yolo\"  # Create this directory if it doesn't exist\n",
        "\n",
        "# Create destination directory\n",
        "os.makedirs(destination_dir, exist_ok=True)\n",
        "\n",
        "# Function to convert annotations\n",
        "def convert_annotations(annotation_file):\n",
        "  df = pd.read_csv(annotation_file)\n",
        "  df['x_min'] = df['c-x'] - df['radius']\n",
        "  df['y_min'] = df['c-y'] - df['radius']\n",
        "  df['x_max'] = df['c-x'] + df['radius']\n",
        "  df['y_max'] = df['c-y'] + df['radius']\n",
        "  df = df[['x_min', 'y_min', 'x_max', 'y_max', 'label']]\n",
        "  return df\n",
        "\n",
        "# Create train/valid/test split\n",
        "def create_split(images, train_ratio=0.8, valid_ratio=0.1, test_ratio=0.1):\n",
        "  \"\"\"Creates a train/valid/test split of the image data.\n",
        "\n",
        "  Args:\n",
        "    images: List of image filenames.\n",
        "    train_ratio: Ratio of images for training.\n",
        "    valid_ratio: Ratio of images for validation.\n",
        "    test_ratio: Ratio of images for testing.\n",
        "\n",
        "  Returns:\n",
        "    A tuple containing three lists: train_images, valid_images, test_images.\n",
        "  \"\"\"\n",
        "\n",
        "  random.shuffle(images)\n",
        "  total_images = len(images)\n",
        "  train_size = int(total_images * train_ratio)\n",
        "  valid_size = int(total_images * valid_ratio)\n",
        "  test_size = int(total_images * test_ratio)\n",
        "\n",
        "  train_images = images[:train_size]\n",
        "  valid_images = images[train_size:train_size + valid_size]\n",
        "  test_images = images[train_size + valid_size:]\n",
        "\n",
        "  return train_images, valid_images, test_images\n",
        "\n",
        "# Get image filenames\n",
        "image_filenames = [f for f in os.listdir(source_images_dir) if f.endswith(('.jpg', '.jpeg', '.png'))]\n",
        "\n",
        "# Create train/valid/test split\n",
        "train_images, valid_images, test_images = create_split(image_filenames)\n",
        "\n",
        "# Write split files\n",
        "with open(os.path.join(\"apples_yolo\", \"train.txt\"), \"w\") as f:\n",
        "  for image in train_images:\n",
        "    f.write(f\"{image}\\n\")\n",
        "\n",
        "with open(os.path.join(\"apples_yolo\", \"valid.txt\"), \"w\") as f:\n",
        "  for image in valid_images:\n",
        "    f.write(f\"{image}\\n\")\n",
        "\n",
        "with open(os.path.join(\"apples_yolo\", \"test.txt\"), \"w\") as f:\n",
        "  for image in test_images:\n",
        "    f.write(f\"{image}\\n\")\n",
        "\n",
        "# Copy images and convert annotations\n",
        "for image_filename in image_filenames:\n",
        "  image_path = os.path.join(source_images_dir, image_filename)\n",
        "  annotation_path = os.path.join(source_annotations_dir, image_filename[:-4] + \".csv\")\n",
        "\n",
        "  # Copy image\n",
        "  new_image_path = os.path.join(destination_dir, image_filename)\n",
        "  shutil.copyfile(image_path, new_image_path)\n",
        "\n",
        "  # Convert annotations\n",
        "  yolo_annotations = convert_annotations(annotation_path)\n",
        "  yolo_annotation_path = os.path.join(destination_dir, image_filename[:-4] + \".txt\")\n",
        "  yolo_annotations.to_csv(yolo_annotation_path, index=False, header=False, sep=\" \")"
      ]
    },
    {
      "cell_type": "code",
      "execution_count": null,
      "metadata": {
        "colab": {
          "background_save": true,
          "base_uri": "https://localhost:8080/"
        },
        "id": "YaK-aYmzfzCa",
        "outputId": "7e63a3c5-23a8-443f-f75b-03069d3d995b"
      },
      "outputs": [
        {
          "name": "stdout",
          "output_type": "stream",
          "text": [
            "/content/drive/MyDrive/my cv/dataset_fruit_detection\n",
            "Ultralytics YOLOv8.0.20 🚀 Python-3.10.12 torch-2.3.0+cu121 CUDA:0 (Tesla T4, 15102MiB)\n",
            "\u001b[34m\u001b[1myolo/engine/trainer: \u001b[0mtask=detect, mode=train, model=yolov8s.yaml, data=data.yaml, epochs=20, patience=50, batch=16, imgsz=224, save=True, cache=False, device=, workers=8, project=None, name=None, exist_ok=False, pretrained=False, optimizer=SGD, verbose=True, seed=0, deterministic=True, single_cls=False, image_weights=False, rect=False, cos_lr=False, close_mosaic=10, resume=False, overlap_mask=True, mask_ratio=4, dropout=False, val=True, save_json=False, save_hybrid=False, conf=0.001, iou=0.7, max_det=300, half=False, dnn=False, plots=True, source=ultralytics/assets/, show=False, save_txt=False, save_conf=False, save_crop=False, hide_labels=False, hide_conf=False, vid_stride=1, line_thickness=3, visualize=False, augment=False, agnostic_nms=False, classes=None, retina_masks=False, boxes=True, format=torchscript, keras=False, optimize=False, int8=False, dynamic=False, simplify=False, opset=17, workspace=4, nms=False, lr0=0.01, lrf=0.01, momentum=0.937, weight_decay=0.001, warmup_epochs=3.0, warmup_momentum=0.8, warmup_bias_lr=0.1, box=7.5, cls=0.5, dfl=1.5, fl_gamma=0.0, label_smoothing=0.0, nbs=64, hsv_h=0.015, hsv_s=0.7, hsv_v=0.4, degrees=0.0, translate=0.1, scale=0.5, shear=0.0, perspective=0.0, flipud=0.0, fliplr=0.5, mosaic=1.0, mixup=0.0, copy_paste=0.0, cfg=None, v5loader=False, save_dir=runs/detect/train3\n",
            "2024-06-18 05:36:19.729371: E external/local_xla/xla/stream_executor/cuda/cuda_dnn.cc:9261] Unable to register cuDNN factory: Attempting to register factory for plugin cuDNN when one has already been registered\n",
            "2024-06-18 05:36:19.729427: E external/local_xla/xla/stream_executor/cuda/cuda_fft.cc:607] Unable to register cuFFT factory: Attempting to register factory for plugin cuFFT when one has already been registered\n",
            "2024-06-18 05:36:19.730766: E external/local_xla/xla/stream_executor/cuda/cuda_blas.cc:1515] Unable to register cuBLAS factory: Attempting to register factory for plugin cuBLAS when one has already been registered\n",
            "2024-06-18 05:36:19.737838: I tensorflow/core/platform/cpu_feature_guard.cc:182] This TensorFlow binary is optimized to use available CPU instructions in performance-critical operations.\n",
            "To enable the following instructions: AVX2 FMA, in other operations, rebuild TensorFlow with the appropriate compiler flags.\n",
            "2024-06-18 05:36:20.909562: W tensorflow/compiler/tf2tensorrt/utils/py_utils.cc:38] TF-TRT Warning: Could not find TensorRT\n",
            "Overriding model.yaml nc=80 with nc=1\n",
            "\n",
            "                   from  n    params  module                                       arguments                     \n",
            "  0                  -1  1       928  ultralytics.nn.modules.Conv                  [3, 32, 3, 2]                 \n",
            "  1                  -1  1     18560  ultralytics.nn.modules.Conv                  [32, 64, 3, 2]                \n",
            "  2                  -1  1     29056  ultralytics.nn.modules.C2f                   [64, 64, 1, True]             \n",
            "  3                  -1  1     73984  ultralytics.nn.modules.Conv                  [64, 128, 3, 2]               \n",
            "  4                  -1  2    197632  ultralytics.nn.modules.C2f                   [128, 128, 2, True]           \n",
            "  5                  -1  1    295424  ultralytics.nn.modules.Conv                  [128, 256, 3, 2]              \n",
            "  6                  -1  2    788480  ultralytics.nn.modules.C2f                   [256, 256, 2, True]           \n",
            "  7                  -1  1   1180672  ultralytics.nn.modules.Conv                  [256, 512, 3, 2]              \n",
            "  8                  -1  1   1838080  ultralytics.nn.modules.C2f                   [512, 512, 1, True]           \n",
            "  9                  -1  1    656896  ultralytics.nn.modules.SPPF                  [512, 512, 5]                 \n",
            " 10                  -1  1         0  torch.nn.modules.upsampling.Upsample         [None, 2, 'nearest']          \n",
            " 11             [-1, 6]  1         0  ultralytics.nn.modules.Concat                [1]                           \n",
            " 12                  -1  1    591360  ultralytics.nn.modules.C2f                   [768, 256, 1]                 \n",
            " 13                  -1  1         0  torch.nn.modules.upsampling.Upsample         [None, 2, 'nearest']          \n",
            " 14             [-1, 4]  1         0  ultralytics.nn.modules.Concat                [1]                           \n",
            " 15                  -1  1    148224  ultralytics.nn.modules.C2f                   [384, 128, 1]                 \n",
            " 16                  -1  1    147712  ultralytics.nn.modules.Conv                  [128, 128, 3, 2]              \n",
            " 17            [-1, 12]  1         0  ultralytics.nn.modules.Concat                [1]                           \n",
            " 18                  -1  1    493056  ultralytics.nn.modules.C2f                   [384, 256, 1]                 \n",
            " 19                  -1  1    590336  ultralytics.nn.modules.Conv                  [256, 256, 3, 2]              \n",
            " 20             [-1, 9]  1         0  ultralytics.nn.modules.Concat                [1]                           \n",
            " 21                  -1  1   1969152  ultralytics.nn.modules.C2f                   [768, 512, 1]                 \n",
            " 22        [15, 18, 21]  1   2116435  ultralytics.nn.modules.Detect                [1, [128, 256, 512]]          \n",
            "Model summary: 225 layers, 11135987 parameters, 11135971 gradients, 28.6 GFLOPs\n",
            "\n",
            "Transferred 349/355 items from pretrained weights\n",
            "\u001b[34m\u001b[1moptimizer:\u001b[0m SGD(lr=0.01) with parameter groups 57 weight(decay=0.0), 64 weight(decay=0.001), 63 bias\n",
            "\u001b[34m\u001b[1mtrain: \u001b[0mScanning /content/drive/MyDrive/my cv/dataset_fruit_detection/train/labels.cache... 800 images, 37 backgrounds, 0 corrupt: 100% 800/800 [00:00<?, ?it/s]\n",
            "\u001b[34m\u001b[1malbumentations: \u001b[0mBlur(p=0.01, blur_limit=(3, 7)), MedianBlur(p=0.01, blur_limit=(3, 7)), ToGray(p=0.01), CLAHE(p=0.01, clip_limit=(1, 4.0), tile_grid_size=(8, 8))\n",
            "\u001b[34m\u001b[1mval: \u001b[0mScanning /content/drive/MyDrive/my cv/dataset_fruit_detection/valid/labels.cache... 100 images, 5 backgrounds, 0 corrupt: 100% 100/100 [00:00<?, ?it/s]\n",
            "Image sizes 224 train, 224 val\n",
            "Using 2 dataloader workers\n",
            "Logging results to \u001b[1mruns/detect/train3\u001b[0m\n",
            "Starting training for 20 epochs...\n",
            "/usr/lib/python3.10/multiprocessing/popen_fork.py:66: RuntimeWarning: os.fork() was called. os.fork() is incompatible with multithreaded code, and JAX is multithreaded, so this will likely lead to a deadlock.\n",
            "  self.pid = os.fork()\n",
            "\n",
            "      Epoch    GPU_mem   box_loss   cls_loss   dfl_loss  Instances       Size\n",
            "  0% 0/50 [00:00<?, ?it/s]/usr/local/lib/python3.10/dist-packages/torch/autograd/graph.py:744: UserWarning: Plan failed with a cudnnException: CUDNN_BACKEND_EXECUTION_PLAN_DESCRIPTOR: cudnnFinalize Descriptor Failed cudnn_status: CUDNN_STATUS_NOT_SUPPORTED (Triggered internally at ../aten/src/ATen/native/cudnn/Conv_v8.cpp:919.)\n",
            "  return Variable._execution_engine.run_backward(  # Calls into the C++ engine to run the backward pass\n",
            "       1/20     0.778G      1.937      2.203      1.381        166        224: 100% 50/50 [00:48<00:00,  1.03it/s]\n",
            "                 Class     Images  Instances      Box(P          R      mAP50  mAP50-95):   0% 0/4 [00:00<?, ?it/s]/usr/lib/python3.10/multiprocessing/popen_fork.py:66: RuntimeWarning: os.fork() was called. os.fork() is incompatible with multithreaded code, and JAX is multithreaded, so this will likely lead to a deadlock.\n",
            "  self.pid = os.fork()\n",
            "                 Class     Images  Instances      Box(P          R      mAP50  mAP50-95): 100% 4/4 [00:02<00:00,  1.70it/s]\n",
            "                   all        100        915      0.665      0.474      0.527      0.341\n",
            "/usr/lib/python3.10/multiprocessing/popen_fork.py:66: RuntimeWarning: os.fork() was called. os.fork() is incompatible with multithreaded code, and JAX is multithreaded, so this will likely lead to a deadlock.\n",
            "  self.pid = os.fork()\n",
            "\n",
            "      Epoch    GPU_mem   box_loss   cls_loss   dfl_loss  Instances       Size\n",
            "       2/20     0.958G      1.363      1.026      1.062        159        224: 100% 50/50 [00:37<00:00,  1.34it/s]\n",
            "                 Class     Images  Instances      Box(P          R      mAP50  mAP50-95):   0% 0/4 [00:00<?, ?it/s]/usr/lib/python3.10/multiprocessing/popen_fork.py:66: RuntimeWarning: os.fork() was called. os.fork() is incompatible with multithreaded code, and JAX is multithreaded, so this will likely lead to a deadlock.\n",
            "  self.pid = os.fork()\n",
            "                 Class     Images  Instances      Box(P          R      mAP50  mAP50-95): 100% 4/4 [00:02<00:00,  1.52it/s]\n",
            "                   all        100        915      0.753      0.511      0.596      0.391\n",
            "/usr/lib/python3.10/multiprocessing/popen_fork.py:66: RuntimeWarning: os.fork() was called. os.fork() is incompatible with multithreaded code, and JAX is multithreaded, so this will likely lead to a deadlock.\n",
            "  self.pid = os.fork()\n",
            "\n",
            "      Epoch    GPU_mem   box_loss   cls_loss   dfl_loss  Instances       Size\n",
            "       3/20      0.96G      1.428      1.048      1.044        203        224: 100% 50/50 [00:37<00:00,  1.34it/s]\n",
            "                 Class     Images  Instances      Box(P          R      mAP50  mAP50-95):   0% 0/4 [00:00<?, ?it/s]/usr/lib/python3.10/multiprocessing/popen_fork.py:66: RuntimeWarning: os.fork() was called. os.fork() is incompatible with multithreaded code, and JAX is multithreaded, so this will likely lead to a deadlock.\n",
            "  self.pid = os.fork()\n",
            "                 Class     Images  Instances      Box(P          R      mAP50  mAP50-95): 100% 4/4 [00:01<00:00,  2.19it/s]\n",
            "                   all        100        915      0.772      0.508      0.619      0.357\n",
            "/usr/lib/python3.10/multiprocessing/popen_fork.py:66: RuntimeWarning: os.fork() was called. os.fork() is incompatible with multithreaded code, and JAX is multithreaded, so this will likely lead to a deadlock.\n",
            "  self.pid = os.fork()\n",
            "\n",
            "      Epoch    GPU_mem   box_loss   cls_loss   dfl_loss  Instances       Size\n",
            "       4/20     0.971G      1.425      1.039      1.038        239        224: 100% 50/50 [00:36<00:00,  1.38it/s]\n",
            "                 Class     Images  Instances      Box(P          R      mAP50  mAP50-95):   0% 0/4 [00:00<?, ?it/s]/usr/lib/python3.10/multiprocessing/popen_fork.py:66: RuntimeWarning: os.fork() was called. os.fork() is incompatible with multithreaded code, and JAX is multithreaded, so this will likely lead to a deadlock.\n",
            "  self.pid = os.fork()\n",
            "                 Class     Images  Instances      Box(P          R      mAP50  mAP50-95): 100% 4/4 [00:02<00:00,  1.83it/s]\n",
            "                   all        100        915      0.767      0.549      0.634      0.418\n",
            "/usr/lib/python3.10/multiprocessing/popen_fork.py:66: RuntimeWarning: os.fork() was called. os.fork() is incompatible with multithreaded code, and JAX is multithreaded, so this will likely lead to a deadlock.\n",
            "  self.pid = os.fork()\n",
            "\n",
            "      Epoch    GPU_mem   box_loss   cls_loss   dfl_loss  Instances       Size\n",
            "       5/20     0.971G      1.394      1.002      1.039        160        224: 100% 50/50 [00:38<00:00,  1.30it/s]\n",
            "                 Class     Images  Instances      Box(P          R      mAP50  mAP50-95):   0% 0/4 [00:00<?, ?it/s]/usr/lib/python3.10/multiprocessing/popen_fork.py:66: RuntimeWarning: os.fork() was called. os.fork() is incompatible with multithreaded code, and JAX is multithreaded, so this will likely lead to a deadlock.\n",
            "  self.pid = os.fork()\n",
            "                 Class     Images  Instances      Box(P          R      mAP50  mAP50-95): 100% 4/4 [00:02<00:00,  1.79it/s]\n",
            "                   all        100        915      0.773      0.533      0.627      0.403\n",
            "/usr/lib/python3.10/multiprocessing/popen_fork.py:66: RuntimeWarning: os.fork() was called. os.fork() is incompatible with multithreaded code, and JAX is multithreaded, so this will likely lead to a deadlock.\n",
            "  self.pid = os.fork()\n",
            "\n",
            "      Epoch    GPU_mem   box_loss   cls_loss   dfl_loss  Instances       Size\n",
            "       6/20     0.971G      1.353     0.9815      1.034        166        224: 100% 50/50 [00:40<00:00,  1.25it/s]\n",
            "                 Class     Images  Instances      Box(P          R      mAP50  mAP50-95):   0% 0/4 [00:00<?, ?it/s]/usr/lib/python3.10/multiprocessing/popen_fork.py:66: RuntimeWarning: os.fork() was called. os.fork() is incompatible with multithreaded code, and JAX is multithreaded, so this will likely lead to a deadlock.\n",
            "  self.pid = os.fork()\n",
            "                 Class     Images  Instances      Box(P          R      mAP50  mAP50-95): 100% 4/4 [00:02<00:00,  1.37it/s]\n",
            "                   all        100        915      0.754       0.57      0.664      0.431\n",
            "/usr/lib/python3.10/multiprocessing/popen_fork.py:66: RuntimeWarning: os.fork() was called. os.fork() is incompatible with multithreaded code, and JAX is multithreaded, so this will likely lead to a deadlock.\n",
            "  self.pid = os.fork()\n",
            "\n",
            "      Epoch    GPU_mem   box_loss   cls_loss   dfl_loss  Instances       Size\n",
            "       7/20     0.971G      1.318     0.9441      1.027        225        224: 100% 50/50 [00:38<00:00,  1.29it/s]\n",
            "                 Class     Images  Instances      Box(P          R      mAP50  mAP50-95):   0% 0/4 [00:00<?, ?it/s]/usr/lib/python3.10/multiprocessing/popen_fork.py:66: RuntimeWarning: os.fork() was called. os.fork() is incompatible with multithreaded code, and JAX is multithreaded, so this will likely lead to a deadlock.\n",
            "  self.pid = os.fork()\n",
            "                 Class     Images  Instances      Box(P          R      mAP50  mAP50-95): 100% 4/4 [00:01<00:00,  2.26it/s]\n",
            "                   all        100        915      0.799      0.532      0.647      0.414\n",
            "/usr/lib/python3.10/multiprocessing/popen_fork.py:66: RuntimeWarning: os.fork() was called. os.fork() is incompatible with multithreaded code, and JAX is multithreaded, so this will likely lead to a deadlock.\n",
            "  self.pid = os.fork()\n",
            "\n",
            "      Epoch    GPU_mem   box_loss   cls_loss   dfl_loss  Instances       Size\n",
            "       8/20     0.971G      1.318       0.93       1.02        178        224: 100% 50/50 [00:36<00:00,  1.37it/s]\n",
            "                 Class     Images  Instances      Box(P          R      mAP50  mAP50-95):   0% 0/4 [00:00<?, ?it/s]/usr/lib/python3.10/multiprocessing/popen_fork.py:66: RuntimeWarning: os.fork() was called. os.fork() is incompatible with multithreaded code, and JAX is multithreaded, so this will likely lead to a deadlock.\n",
            "  self.pid = os.fork()\n",
            "                 Class     Images  Instances      Box(P          R      mAP50  mAP50-95): 100% 4/4 [00:02<00:00,  1.44it/s]\n",
            "                   all        100        915      0.847      0.557      0.682      0.445\n",
            "/usr/lib/python3.10/multiprocessing/popen_fork.py:66: RuntimeWarning: os.fork() was called. os.fork() is incompatible with multithreaded code, and JAX is multithreaded, so this will likely lead to a deadlock.\n",
            "  self.pid = os.fork()\n",
            "\n",
            "      Epoch    GPU_mem   box_loss   cls_loss   dfl_loss  Instances       Size\n",
            "       9/20     0.971G      1.271     0.8982      1.008        168        224: 100% 50/50 [00:38<00:00,  1.30it/s]\n",
            "                 Class     Images  Instances      Box(P          R      mAP50  mAP50-95):   0% 0/4 [00:00<?, ?it/s]/usr/lib/python3.10/multiprocessing/popen_fork.py:66: RuntimeWarning: os.fork() was called. os.fork() is incompatible with multithreaded code, and JAX is multithreaded, so this will likely lead to a deadlock.\n",
            "  self.pid = os.fork()\n",
            "                 Class     Images  Instances      Box(P          R      mAP50  mAP50-95): 100% 4/4 [00:01<00:00,  2.24it/s]\n",
            "                   all        100        915      0.786      0.591      0.678      0.446\n",
            "/usr/lib/python3.10/multiprocessing/popen_fork.py:66: RuntimeWarning: os.fork() was called. os.fork() is incompatible with multithreaded code, and JAX is multithreaded, so this will likely lead to a deadlock.\n",
            "  self.pid = os.fork()\n",
            "\n",
            "      Epoch    GPU_mem   box_loss   cls_loss   dfl_loss  Instances       Size\n",
            "      10/20     0.971G      1.249     0.8983      1.008        215        224: 100% 50/50 [00:37<00:00,  1.34it/s]\n",
            "                 Class     Images  Instances      Box(P          R      mAP50  mAP50-95):   0% 0/4 [00:00<?, ?it/s]/usr/lib/python3.10/multiprocessing/popen_fork.py:66: RuntimeWarning: os.fork() was called. os.fork() is incompatible with multithreaded code, and JAX is multithreaded, so this will likely lead to a deadlock.\n",
            "  self.pid = os.fork()\n",
            "                 Class     Images  Instances      Box(P          R      mAP50  mAP50-95): 100% 4/4 [00:02<00:00,  1.55it/s]\n",
            "                   all        100        915      0.792      0.584      0.684       0.44\n",
            "/usr/lib/python3.10/multiprocessing/popen_fork.py:66: RuntimeWarning: os.fork() was called. os.fork() is incompatible with multithreaded code, and JAX is multithreaded, so this will likely lead to a deadlock.\n",
            "  self.pid = os.fork()\n",
            "Closing dataloader mosaic\n",
            "\u001b[34m\u001b[1malbumentations: \u001b[0mBlur(p=0.01, blur_limit=(3, 7)), MedianBlur(p=0.01, blur_limit=(3, 7)), ToGray(p=0.01), CLAHE(p=0.01, clip_limit=(1, 4.0), tile_grid_size=(8, 8))\n",
            "\n",
            "      Epoch    GPU_mem   box_loss   cls_loss   dfl_loss  Instances       Size\n",
            "      11/20     0.971G      1.151     0.8691      1.009        114        224: 100% 50/50 [00:21<00:00,  2.29it/s]\n",
            "                 Class     Images  Instances      Box(P          R      mAP50  mAP50-95):   0% 0/4 [00:00<?, ?it/s]/usr/lib/python3.10/multiprocessing/popen_fork.py:66: RuntimeWarning: os.fork() was called. os.fork() is incompatible with multithreaded code, and JAX is multithreaded, so this will likely lead to a deadlock.\n",
            "  self.pid = os.fork()\n",
            "                 Class     Images  Instances      Box(P          R      mAP50  mAP50-95): 100% 4/4 [00:02<00:00,  1.94it/s]\n",
            "                   all        100        915      0.807      0.585      0.691      0.466\n",
            "/usr/lib/python3.10/multiprocessing/popen_fork.py:66: RuntimeWarning: os.fork() was called. os.fork() is incompatible with multithreaded code, and JAX is multithreaded, so this will likely lead to a deadlock.\n",
            "  self.pid = os.fork()\n",
            "\n",
            "      Epoch    GPU_mem   box_loss   cls_loss   dfl_loss  Instances       Size\n",
            "      12/20     0.971G      1.156     0.8488      1.012        131        224: 100% 50/50 [00:15<00:00,  3.18it/s]\n",
            "                 Class     Images  Instances      Box(P          R      mAP50  mAP50-95):   0% 0/4 [00:00<?, ?it/s]/usr/lib/python3.10/multiprocessing/popen_fork.py:66: RuntimeWarning: os.fork() was called. os.fork() is incompatible with multithreaded code, and JAX is multithreaded, so this will likely lead to a deadlock.\n",
            "  self.pid = os.fork()\n",
            "                 Class     Images  Instances      Box(P          R      mAP50  mAP50-95): 100% 4/4 [00:01<00:00,  2.13it/s]\n",
            "                   all        100        915      0.778      0.596      0.675      0.453\n",
            "/usr/lib/python3.10/multiprocessing/popen_fork.py:66: RuntimeWarning: os.fork() was called. os.fork() is incompatible with multithreaded code, and JAX is multithreaded, so this will likely lead to a deadlock.\n",
            "  self.pid = os.fork()\n",
            "\n",
            "      Epoch    GPU_mem   box_loss   cls_loss   dfl_loss  Instances       Size\n",
            "      13/20     0.971G      1.135      0.832     0.9917        130        224: 100% 50/50 [00:15<00:00,  3.27it/s]\n",
            "                 Class     Images  Instances      Box(P          R      mAP50  mAP50-95):   0% 0/4 [00:00<?, ?it/s]/usr/lib/python3.10/multiprocessing/popen_fork.py:66: RuntimeWarning: os.fork() was called. os.fork() is incompatible with multithreaded code, and JAX is multithreaded, so this will likely lead to a deadlock.\n",
            "  self.pid = os.fork()\n",
            "                 Class     Images  Instances      Box(P          R      mAP50  mAP50-95): 100% 4/4 [00:01<00:00,  2.11it/s]\n",
            "                   all        100        915      0.842      0.547      0.679      0.468\n",
            "/usr/lib/python3.10/multiprocessing/popen_fork.py:66: RuntimeWarning: os.fork() was called. os.fork() is incompatible with multithreaded code, and JAX is multithreaded, so this will likely lead to a deadlock.\n",
            "  self.pid = os.fork()\n",
            "\n",
            "      Epoch    GPU_mem   box_loss   cls_loss   dfl_loss  Instances       Size\n",
            "      14/20     0.971G      1.116     0.8244      0.987        113        224: 100% 50/50 [00:16<00:00,  3.09it/s]\n",
            "                 Class     Images  Instances      Box(P          R      mAP50  mAP50-95):   0% 0/4 [00:00<?, ?it/s]/usr/lib/python3.10/multiprocessing/popen_fork.py:66: RuntimeWarning: os.fork() was called. os.fork() is incompatible with multithreaded code, and JAX is multithreaded, so this will likely lead to a deadlock.\n",
            "  self.pid = os.fork()\n",
            "                 Class     Images  Instances      Box(P          R      mAP50  mAP50-95): 100% 4/4 [00:01<00:00,  2.07it/s]\n",
            "                   all        100        915      0.797       0.58      0.677      0.462\n",
            "/usr/lib/python3.10/multiprocessing/popen_fork.py:66: RuntimeWarning: os.fork() was called. os.fork() is incompatible with multithreaded code, and JAX is multithreaded, so this will likely lead to a deadlock.\n",
            "  self.pid = os.fork()\n",
            "\n",
            "      Epoch    GPU_mem   box_loss   cls_loss   dfl_loss  Instances       Size\n",
            "      15/20     0.971G      1.095     0.7929     0.9924         98        224: 100% 50/50 [00:15<00:00,  3.18it/s]\n",
            "                 Class     Images  Instances      Box(P          R      mAP50  mAP50-95):   0% 0/4 [00:00<?, ?it/s]/usr/lib/python3.10/multiprocessing/popen_fork.py:66: RuntimeWarning: os.fork() was called. os.fork() is incompatible with multithreaded code, and JAX is multithreaded, so this will likely lead to a deadlock.\n",
            "  self.pid = os.fork()\n",
            "                 Class     Images  Instances      Box(P          R      mAP50  mAP50-95): 100% 4/4 [00:02<00:00,  1.96it/s]\n",
            "                   all        100        915      0.799      0.588      0.695      0.476\n",
            "/usr/lib/python3.10/multiprocessing/popen_fork.py:66: RuntimeWarning: os.fork() was called. os.fork() is incompatible with multithreaded code, and JAX is multithreaded, so this will likely lead to a deadlock.\n",
            "  self.pid = os.fork()\n",
            "\n",
            "      Epoch    GPU_mem   box_loss   cls_loss   dfl_loss  Instances       Size\n",
            "      16/20     0.971G      1.081      0.785     0.9816        108        224: 100% 50/50 [00:15<00:00,  3.24it/s]\n",
            "                 Class     Images  Instances      Box(P          R      mAP50  mAP50-95):   0% 0/4 [00:00<?, ?it/s]/usr/lib/python3.10/multiprocessing/popen_fork.py:66: RuntimeWarning: os.fork() was called. os.fork() is incompatible with multithreaded code, and JAX is multithreaded, so this will likely lead to a deadlock.\n",
            "  self.pid = os.fork()\n",
            "                 Class     Images  Instances      Box(P          R      mAP50  mAP50-95): 100% 4/4 [00:01<00:00,  2.18it/s]\n",
            "                   all        100        915      0.835      0.575      0.693       0.48\n",
            "/usr/lib/python3.10/multiprocessing/popen_fork.py:66: RuntimeWarning: os.fork() was called. os.fork() is incompatible with multithreaded code, and JAX is multithreaded, so this will likely lead to a deadlock.\n",
            "  self.pid = os.fork()\n",
            "\n",
            "      Epoch    GPU_mem   box_loss   cls_loss   dfl_loss  Instances       Size\n",
            "      17/20     0.971G      1.065     0.7805       0.97        105        224: 100% 50/50 [00:15<00:00,  3.24it/s]\n",
            "                 Class     Images  Instances      Box(P          R      mAP50  mAP50-95):   0% 0/4 [00:00<?, ?it/s]/usr/lib/python3.10/multiprocessing/popen_fork.py:66: RuntimeWarning: os.fork() was called. os.fork() is incompatible with multithreaded code, and JAX is multithreaded, so this will likely lead to a deadlock.\n",
            "  self.pid = os.fork()\n",
            "                 Class     Images  Instances      Box(P          R      mAP50  mAP50-95): 100% 4/4 [00:01<00:00,  2.20it/s]\n",
            "                   all        100        915        0.8      0.593      0.699      0.483\n",
            "/usr/lib/python3.10/multiprocessing/popen_fork.py:66: RuntimeWarning: os.fork() was called. os.fork() is incompatible with multithreaded code, and JAX is multithreaded, so this will likely lead to a deadlock.\n",
            "  self.pid = os.fork()\n",
            "\n",
            "      Epoch    GPU_mem   box_loss   cls_loss   dfl_loss  Instances       Size\n",
            "      18/20     0.971G      1.058     0.7707     0.9765        171        224: 100% 50/50 [00:15<00:00,  3.22it/s]\n",
            "                 Class     Images  Instances      Box(P          R      mAP50  mAP50-95):   0% 0/4 [00:00<?, ?it/s]/usr/lib/python3.10/multiprocessing/popen_fork.py:66: RuntimeWarning: os.fork() was called. os.fork() is incompatible with multithreaded code, and JAX is multithreaded, so this will likely lead to a deadlock.\n",
            "  self.pid = os.fork()\n",
            "                 Class     Images  Instances      Box(P          R      mAP50  mAP50-95): 100% 4/4 [00:01<00:00,  2.13it/s]\n",
            "                   all        100        915      0.783      0.607        0.7      0.488\n",
            "/usr/lib/python3.10/multiprocessing/popen_fork.py:66: RuntimeWarning: os.fork() was called. os.fork() is incompatible with multithreaded code, and JAX is multithreaded, so this will likely lead to a deadlock.\n",
            "  self.pid = os.fork()\n",
            "\n",
            "      Epoch    GPU_mem   box_loss   cls_loss   dfl_loss  Instances       Size\n",
            "      19/20     0.971G       1.04     0.7459     0.9663        151        224: 100% 50/50 [00:15<00:00,  3.18it/s]\n",
            "                 Class     Images  Instances      Box(P          R      mAP50  mAP50-95):   0% 0/4 [00:00<?, ?it/s]/usr/lib/python3.10/multiprocessing/popen_fork.py:66: RuntimeWarning: os.fork() was called. os.fork() is incompatible with multithreaded code, and JAX is multithreaded, so this will likely lead to a deadlock.\n",
            "  self.pid = os.fork()\n",
            "                 Class     Images  Instances      Box(P          R      mAP50  mAP50-95): 100% 4/4 [00:01<00:00,  2.22it/s]\n",
            "                   all        100        915        0.8      0.596      0.703       0.48\n",
            "/usr/lib/python3.10/multiprocessing/popen_fork.py:66: RuntimeWarning: os.fork() was called. os.fork() is incompatible with multithreaded code, and JAX is multithreaded, so this will likely lead to a deadlock.\n",
            "  self.pid = os.fork()\n",
            "\n",
            "      Epoch    GPU_mem   box_loss   cls_loss   dfl_loss  Instances       Size\n",
            "      20/20     0.971G      1.015     0.7255     0.9733        115        224: 100% 50/50 [00:14<00:00,  3.33it/s]\n",
            "                 Class     Images  Instances      Box(P          R      mAP50  mAP50-95):   0% 0/4 [00:00<?, ?it/s]/usr/lib/python3.10/multiprocessing/popen_fork.py:66: RuntimeWarning: os.fork() was called. os.fork() is incompatible with multithreaded code, and JAX is multithreaded, so this will likely lead to a deadlock.\n",
            "  self.pid = os.fork()\n",
            "                 Class     Images  Instances      Box(P          R      mAP50  mAP50-95): 100% 4/4 [00:06<00:00,  1.51s/it]\n",
            "                   all        100        915      0.771      0.614      0.704      0.492\n",
            "\n",
            "20 epochs completed in 0.174 hours.\n",
            "Optimizer stripped from runs/detect/train3/weights/last.pt, 22.5MB\n",
            "Optimizer stripped from runs/detect/train3/weights/best.pt, 22.5MB\n",
            "\n",
            "Validating runs/detect/train3/weights/best.pt...\n",
            "Ultralytics YOLOv8.0.20 🚀 Python-3.10.12 torch-2.3.0+cu121 CUDA:0 (Tesla T4, 15102MiB)\n",
            "Model summary (fused): 168 layers, 11125971 parameters, 0 gradients, 28.4 GFLOPs\n",
            "                 Class     Images  Instances      Box(P          R      mAP50  mAP50-95):   0% 0/4 [00:00<?, ?it/s]/usr/lib/python3.10/multiprocessing/popen_fork.py:66: RuntimeWarning: os.fork() was called. os.fork() is incompatible with multithreaded code, and JAX is multithreaded, so this will likely lead to a deadlock.\n",
            "  self.pid = os.fork()\n",
            "                 Class     Images  Instances      Box(P          R      mAP50  mAP50-95): 100% 4/4 [00:07<00:00,  1.78s/it]\n",
            "                   all        100        915      0.772      0.614      0.704      0.492\n",
            "Speed: 0.0ms pre-process, 3.8ms inference, 0.0ms loss, 22.7ms post-process per image\n",
            "Results saved to \u001b[1mruns/detect/train3\u001b[0m\n"
          ]
        }
      ],
      "source": [
        "\n",
        "%cd /content/drive/MyDrive/my cv/dataset_fruit_detection\n",
        "\n",
        "!yolo task=detect mode=train model=yolov8s.pt data= data.yaml epochs=20 imgsz=224 plots=True"
      ]
    },
    {
      "cell_type": "code",
      "execution_count": null,
      "metadata": {
        "colab": {
          "base_uri": "https://localhost:8080/"
        },
        "id": "6dPi5Q9-f_sS",
        "outputId": "e7e5d8e2-35a4-449a-d5a4-543b12f37d9c"
      },
      "outputs": [
        {
          "name": "stdout",
          "output_type": "stream",
          "text": [
            "2024-06-18 05:22:42.725912: E external/local_xla/xla/stream_executor/cuda/cuda_dnn.cc:9261] Unable to register cuDNN factory: Attempting to register factory for plugin cuDNN when one has already been registered\n",
            "2024-06-18 05:22:42.725963: E external/local_xla/xla/stream_executor/cuda/cuda_fft.cc:607] Unable to register cuFFT factory: Attempting to register factory for plugin cuFFT when one has already been registered\n",
            "2024-06-18 05:22:42.727247: E external/local_xla/xla/stream_executor/cuda/cuda_blas.cc:1515] Unable to register cuBLAS factory: Attempting to register factory for plugin cuBLAS when one has already been registered\n",
            "2024-06-18 05:22:42.735092: I tensorflow/core/platform/cpu_feature_guard.cc:182] This TensorFlow binary is optimized to use available CPU instructions in performance-critical operations.\n",
            "To enable the following instructions: AVX2 FMA, in other operations, rebuild TensorFlow with the appropriate compiler flags.\n",
            "2024-06-18 05:22:43.905201: W tensorflow/compiler/tf2tensorrt/utils/py_utils.cc:38] TF-TRT Warning: Could not find TensorRT\n",
            "Ultralytics YOLOv8.0.20 🚀 Python-3.10.12 torch-2.3.0+cu121 CUDA:0 (Tesla T4, 15102MiB)\n",
            "Model summary (fused): 168 layers, 11125971 parameters, 0 gradients, 28.4 GFLOPs\n",
            "\u001b[34m\u001b[1mval: \u001b[0mScanning /content/drive/MyDrive/my cv/dataset_fruit_detection/valid/labels.cache... 100 images, 5 backgrounds, 0 corrupt: 100% 100/100 [00:00<?, ?it/s]\n",
            "                 Class     Images  Instances      Box(P          R      mAP50  mAP50-95):   0% 0/7 [00:00<?, ?it/s]/usr/lib/python3.10/multiprocessing/popen_fork.py:66: RuntimeWarning: os.fork() was called. os.fork() is incompatible with multithreaded code, and JAX is multithreaded, so this will likely lead to a deadlock.\n",
            "  self.pid = os.fork()\n",
            "WARNING ⚠️ NMS time limit 1.300s exceeded\n",
            "                 Class     Images  Instances      Box(P          R      mAP50  mAP50-95): 100% 7/7 [00:09<00:00,  1.32s/it]\n",
            "                   all        100        915      0.828      0.525      0.624      0.435\n",
            "Speed: 0.8ms pre-process, 7.1ms inference, 0.0ms loss, 30.5ms post-process per image\n"
          ]
        }
      ],
      "source": [
        "!yolo task=detect mode=val model=runs/detect/train2/weights/best.pt data=data.yaml"
      ]
    },
    {
      "cell_type": "code",
      "execution_count": null,
      "metadata": {
        "colab": {
          "base_uri": "https://localhost:8080/"
        },
        "id": "RelA9wX9yXgv",
        "outputId": "59ca74ba-d857-4aa8-9a2d-dcc67dd0bc6e"
      },
      "outputs": [
        {
          "name": "stdout",
          "output_type": "stream",
          "text": [
            "2024-06-18 05:25:14.382033: E external/local_xla/xla/stream_executor/cuda/cuda_dnn.cc:9261] Unable to register cuDNN factory: Attempting to register factory for plugin cuDNN when one has already been registered\n",
            "2024-06-18 05:25:14.382094: E external/local_xla/xla/stream_executor/cuda/cuda_fft.cc:607] Unable to register cuFFT factory: Attempting to register factory for plugin cuFFT when one has already been registered\n",
            "2024-06-18 05:25:14.383538: E external/local_xla/xla/stream_executor/cuda/cuda_blas.cc:1515] Unable to register cuBLAS factory: Attempting to register factory for plugin cuBLAS when one has already been registered\n",
            "2024-06-18 05:25:14.390992: I tensorflow/core/platform/cpu_feature_guard.cc:182] This TensorFlow binary is optimized to use available CPU instructions in performance-critical operations.\n",
            "To enable the following instructions: AVX2 FMA, in other operations, rebuild TensorFlow with the appropriate compiler flags.\n",
            "2024-06-18 05:25:15.644437: W tensorflow/compiler/tf2tensorrt/utils/py_utils.cc:38] TF-TRT Warning: Could not find TensorRT\n",
            "Ultralytics YOLOv8.0.20 🚀 Python-3.10.12 torch-2.3.0+cu121 CUDA:0 (Tesla T4, 15102MiB)\n",
            "Model summary (fused): 168 layers, 11125971 parameters, 0 gradients, 28.4 GFLOPs\n",
            "WARNING ⚠️ NMS time limit 0.550s exceeded\n",
            "image 1/100 /content/drive/MyDrive/my cv/dataset_fruit_detection/test/images/20130320T004351-992184-Cam6_61_png.rf.8a7512dc86c2872e892f6bfd0f6cd816.jpg: 224x224 8 apples, 7.4ms\n",
            "image 2/100 /content/drive/MyDrive/my cv/dataset_fruit_detection/test/images/20130320T004403-421053-Cam6_32_png.rf.bdc91d0deca849326ce967a95c5d41ab.jpg: 224x224 1 apple, 14.3ms\n",
            "image 3/100 /content/drive/MyDrive/my cv/dataset_fruit_detection/test/images/20130320T004409-706932-Cam6_62_png.rf.5443ea598c2e3a4d19657f3f187f1e7a.jpg: 224x224 2 apples, 8.1ms\n",
            "image 4/100 /content/drive/MyDrive/my cv/dataset_fruit_detection/test/images/20130320T004432-183517-Cam6_31_png.rf.7200faa95c4d3a3d47d718d7bbe1f05a.jpg: 224x224 1 apple, 8.4ms\n",
            "image 5/100 /content/drive/MyDrive/my cv/dataset_fruit_detection/test/images/20130320T004433-707425-Cam6_54_png.rf.4a66f76d0641dfa7d6579ec83c9b2618.jpg: 224x224 8 apples, 7.0ms\n",
            "image 6/100 /content/drive/MyDrive/my cv/dataset_fruit_detection/test/images/20130320T004530-851480-Cam6_51_png.rf.1a4473020df5f2a246a8a138803ba1de.jpg: 224x224 8 apples, 8.7ms\n",
            "image 7/100 /content/drive/MyDrive/my cv/dataset_fruit_detection/test/images/20130320T004543-994512-Cam6_42_png.rf.a95c0370eccbb57dc5edae4bec3deda2.jpg: 224x224 7 apples, 8.9ms\n",
            "image 8/100 /content/drive/MyDrive/my cv/dataset_fruit_detection/test/images/20130320T004611-042700-Cam6_31_png.rf.549749b6c5d181c68d23e005e39a18ef.jpg: 224x224 9 apples, 8.1ms\n",
            "image 9/100 /content/drive/MyDrive/my cv/dataset_fruit_detection/test/images/20130320T004615-614293-Cam6_51_png.rf.b25ff9d54094bae136b7265ea89ad852.jpg: 224x224 6 apples, 9.7ms\n",
            "image 10/100 /content/drive/MyDrive/my cv/dataset_fruit_detection/test/images/20130320T004619-042864-Cam6_53_png.rf.2b3e6e67eb3f807c73a7fe797b4a6940.jpg: 224x224 4 apples, 8.8ms\n",
            "image 11/100 /content/drive/MyDrive/my cv/dataset_fruit_detection/test/images/20130320T004708-186750-Cam6_31_png.rf.10dfc10092e2a3588454a4b53f5542f2.jpg: 224x224 6 apples, 10.9ms\n",
            "image 12/100 /content/drive/MyDrive/my cv/dataset_fruit_detection/test/images/20130320T004708-948641-Cam6_62_png.rf.46c0d715e56b599ac7abf02e1f6c4a67.jpg: 224x224 11 apples, 6.9ms\n",
            "image 13/100 /content/drive/MyDrive/my cv/dataset_fruit_detection/test/images/20130320T004735-806461-Cam6_41_png.rf.d5c03b5be286b9354d465c463d63ba68.jpg: 224x224 13 apples, 6.9ms\n",
            "image 14/100 /content/drive/MyDrive/my cv/dataset_fruit_detection/test/images/20130320T004756-949641-Cam6_54_png.rf.7c2c2592876ff0e860c700be2145fb97.jpg: 224x224 5 apples, 7.0ms\n",
            "image 15/100 /content/drive/MyDrive/my cv/dataset_fruit_detection/test/images/20130320T004802-092623-Cam6_21_png.rf.e9d7c65cc9b5f7836235033292528ac2.jpg: 224x224 10 apples, 7.0ms\n",
            "image 16/100 /content/drive/MyDrive/my cv/dataset_fruit_detection/test/images/20130320T004806-664219-Cam6_23_png.rf.84edb45296e922bed732041cc1767e93.jpg: 224x224 9 apples, 7.0ms\n",
            "image 17/100 /content/drive/MyDrive/my cv/dataset_fruit_detection/test/images/20130320T004859-236691-Cam6_43_png.rf.a1dcf04b5d10bfb8a2e4f2820abcbc51.jpg: 224x224 8 apples, 6.9ms\n",
            "image 18/100 /content/drive/MyDrive/my cv/dataset_fruit_detection/test/images/20130320T004859-617697-Cam6_61_png.rf.946be1a439109805ea55f3effd83c8dd.jpg: 224x224 12 apples, 6.9ms\n",
            "image 19/100 /content/drive/MyDrive/my cv/dataset_fruit_detection/test/images/20130320T004900-950974-Cam6_63_png.rf.9b4cd6f42d8d769cd0e24507f67ee4fa.jpg: 224x224 15 apples, 7.0ms\n",
            "image 20/100 /content/drive/MyDrive/my cv/dataset_fruit_detection/test/images/20130320T004902-855890-Cam6_64_png.rf.0ca7facb0cb5eb5e3e4ddbef5069fa32.jpg: 224x224 10 apples, 7.0ms\n",
            "image 21/100 /content/drive/MyDrive/my cv/dataset_fruit_detection/test/images/20130320T004908-951143-Cam6_23_png.rf.0f686fbe0b495bd2c355fd88b904fa22.jpg: 224x224 11 apples, 7.0ms\n",
            "image 22/100 /content/drive/MyDrive/my cv/dataset_fruit_detection/test/images/20130320T004910-856060-Cam6_61_png.rf.a619b342aa22449156500c332a11b45d.jpg: 224x224 3 apples, 6.9ms\n",
            "image 23/100 /content/drive/MyDrive/my cv/dataset_fruit_detection/test/images/20130320T004918-284713-Cam6_62_png.rf.a7da8bfc6ce5eae7795c925d3b9ac1e0.jpg: 224x224 7 apples, 12.2ms\n",
            "image 24/100 /content/drive/MyDrive/my cv/dataset_fruit_detection/test/images/20130320T004927-999164-Cam6_13_png.rf.d9b599ab991678e882a2e8bd2222c14b.jpg: 224x224 4 apples, 6.9ms\n",
            "image 25/100 /content/drive/MyDrive/my cv/dataset_fruit_detection/test/images/20130320T004928-380174-Cam6_52_png.rf.021d7fead7396872007e70d765f6506b.jpg: 224x224 4 apples, 7.0ms\n",
            "image 26/100 /content/drive/MyDrive/my cv/dataset_fruit_detection/test/images/20130320T004929-332567-Cam6_23_png.rf.ca2792fc3d37931c0be8ae2fb040550d.jpg: 224x224 8 apples, 6.9ms\n",
            "image 27/100 /content/drive/MyDrive/my cv/dataset_fruit_detection/test/images/20130320T005025-333719-Cam6_41_png.rf.b433b70a3d35ddcf8315084010ecfdce.jpg: 224x224 11 apples, 7.0ms\n",
            "image 28/100 /content/drive/MyDrive/my cv/dataset_fruit_detection/test/images/20130320T005034-857669-Cam6_61_png.rf.b0ed8487fbe3452da4325da491b03faa.jpg: 224x224 3 apples, 7.3ms\n",
            "image 29/100 /content/drive/MyDrive/my cv/dataset_fruit_detection/test/images/20130320T005049-524720-Cam6_33_png.rf.7c2f3061b06a350d3773e2f3152fef0c.jpg: 224x224 14 apples, 6.9ms\n",
            "image 30/100 /content/drive/MyDrive/my cv/dataset_fruit_detection/test/images/20130320T005058-667785-Cam6_44_png.rf.5927c6260850e42525c922f0616ac898.jpg: 224x224 10 apples, 6.9ms\n",
            "image 31/100 /content/drive/MyDrive/my cv/dataset_fruit_detection/test/images/20130320T005104-572657-Cam6_14_png.rf.e02b8d6601f39b84889b1b4ec82a105f.jpg: 224x224 1 apple, 6.9ms\n",
            "image 32/100 /content/drive/MyDrive/my cv/dataset_fruit_detection/test/images/20130320T005136-573304-Cam6_24_png.rf.584f826a5726ebddbc65a7ed19064e68.jpg: 224x224 5 apples, 6.9ms\n",
            "image 33/100 /content/drive/MyDrive/my cv/dataset_fruit_detection/test/images/20130320T005218-097902-Cam6_73_png.rf.7036f2ac871e9b8085e7cdbb46f041fc.jpg: 224x224 6 apples, 6.9ms\n",
            "image 34/100 /content/drive/MyDrive/my cv/dataset_fruit_detection/test/images/20130320T005221-907478-Cam6_33_png.rf.6b54a89158701696dd0e93c489e7adb0.jpg: 224x224 15 apples, 7.0ms\n",
            "image 35/100 /content/drive/MyDrive/my cv/dataset_fruit_detection/test/images/20130320T005225-145669-Cam6_72_png.rf.ecf9260ddaae91dfe965fd0765f9bdc0.jpg: 224x224 5 apples, 7.0ms\n",
            "image 36/100 /content/drive/MyDrive/my cv/dataset_fruit_detection/test/images/20130320T005231-622053-Cam6_11_png.rf.d50f41738ffd13e50aa46a7114fc7a32.jpg: 224x224 3 apples, 7.0ms\n",
            "image 37/100 /content/drive/MyDrive/my cv/dataset_fruit_detection/test/images/20130320T005307-432292-Cam6_61_png.rf.0ccbc9bd1ba7a2290bf5bdf1e52485a7.jpg: 224x224 15 apples, 6.9ms\n",
            "image 38/100 /content/drive/MyDrive/my cv/dataset_fruit_detection/test/images/20130320T005406-862151-Cam6_22_png.rf.d57fdb03069e2446f7594bb36fa998b2.jpg: 224x224 8 apples, 6.9ms\n",
            "image 39/100 /content/drive/MyDrive/my cv/dataset_fruit_detection/test/images/20130320T005416-767103-Cam6_61_png.rf.ba5c544e7f2af32a4bf77858f287a731.jpg: 224x224 2 apples, 7.8ms\n",
            "image 40/100 /content/drive/MyDrive/my cv/dataset_fruit_detection/test/images/20130320T005418-671890-Cam6_34_png.rf.451e4876eb562baf6e01aa7dbc078198.jpg: 224x224 15 apples, 8.6ms\n",
            "image 41/100 /content/drive/MyDrive/my cv/dataset_fruit_detection/test/images/20130320T005419-243277-Cam6_54_png.rf.a20b9c9cc42c1e8e78d926a5c805dcce.jpg: 224x224 7 apples, 7.1ms\n",
            "image 42/100 /content/drive/MyDrive/my cv/dataset_fruit_detection/test/images/20130320T005423-052856-Cam6_23_png.rf.2295c4adabdb91092cf0c6fcdd8484db.jpg: 224x224 16 apples, 7.0ms\n",
            "image 43/100 /content/drive/MyDrive/my cv/dataset_fruit_detection/test/images/20130320T005428-957729-Cam6_31_png.rf.2a7e25dc00ceb127574b1f5c7d213551.jpg: 224x224 17 apples, 6.9ms\n",
            "image 44/100 /content/drive/MyDrive/my cv/dataset_fruit_detection/test/images/20130320T005440-957969-Cam6_62_png.rf.a767e47c93a4f4db96544e9afc6a9fb3.jpg: 224x224 3 apples, 7.0ms\n",
            "image 45/100 /content/drive/MyDrive/my cv/dataset_fruit_detection/test/images/20130320T005448-958130-Cam6_63_png.rf.7ad72e7c87aa80e78f67c590466e7651.jpg: 224x224 2 apples, 6.9ms\n",
            "image 46/100 /content/drive/MyDrive/my cv/dataset_fruit_detection/test/images/20130320T005454-863128-Cam6_22_png.rf.5cfa963187b4e91642294bd49bf0fd5f.jpg: 224x224 3 apples, 6.9ms\n",
            "image 47/100 /content/drive/MyDrive/my cv/dataset_fruit_detection/test/images/20130320T005500-005985-Cam6_43_png.rf.4ea3a4f270b19209d0c2fff5bb075e88.jpg: 224x224 11 apples, 7.0ms\n",
            "image 48/100 /content/drive/MyDrive/my cv/dataset_fruit_detection/test/images/20130320T005548-197486-Cam6_34_png.rf.5481f6dc0d172302a8f125c245db09d4.jpg: 224x224 15 apples, 7.0ms\n",
            "image 49/100 /content/drive/MyDrive/my cv/dataset_fruit_detection/test/images/20130320T005556-769166-Cam6_53_png.rf.e0447da4f353e3aab689176c123fce9e.jpg: 224x224 8 apples, 7.0ms\n",
            "image 50/100 /content/drive/MyDrive/my cv/dataset_fruit_detection/test/images/20130320T005602-674040-Cam6_43_png.rf.031ff24fcb719a038f7a12527479c35c.jpg: 224x224 23 apples, 6.9ms\n",
            "image 51/100 /content/drive/MyDrive/my cv/dataset_fruit_detection/test/images/20130320T005643-055747-Cam6_31_png.rf.8ea92db8f7d456a512e97560861cb9fd.jpg: 224x224 4 apples, 7.0ms\n",
            "image 52/100 /content/drive/MyDrive/my cv/dataset_fruit_detection/test/images/20130320T005644-770158-Cam6_12_png.rf.32406e9a26d5f32e7f213500cc5768f8.jpg: 224x224 1 apple, 6.9ms\n",
            "image 53/100 /content/drive/MyDrive/my cv/dataset_fruit_detection/test/images/20130320T005648-008226-Cam6_14_png.rf.db9fd8c72dc6720bd936241ef202705f.jpg: 224x224 7 apples, 6.9ms\n",
            "image 54/100 /content/drive/MyDrive/my cv/dataset_fruit_detection/test/images/20130320T005653-151208-Cam6_13_png.rf.0bd5e15015def33a5a0cfd018b0a51f7.jpg: 224x224 1 apple, 8.1ms\n",
            "image 55/100 /content/drive/MyDrive/my cv/dataset_fruit_detection/test/images/20130320T005655-817889-Cam6_12_png.rf.27fee66a10e060ef5c435a3ba8f3b5dc.jpg: 224x224 11 apples, 8.4ms\n",
            "image 56/100 /content/drive/MyDrive/my cv/dataset_fruit_detection/test/images/20130320T005656-389401-Cam6_33_png.rf.dfc8446d6a80983acbedbe7a3ee43d30.jpg: 224x224 10 apples, 8.2ms\n",
            "image 57/100 /content/drive/MyDrive/my cv/dataset_fruit_detection/test/images/20130320T005657-151294-Cam6_31_png.rf.0d82bb42037ed51cba0b821254573da2.jpg: 224x224 15 apples, 7.5ms\n",
            "image 58/100 /content/drive/MyDrive/my cv/dataset_fruit_detection/test/images/20130320T005724-770991-Cam6_22_png.rf.649904d69b909e00331f54f7f5b2127a.jpg: 224x224 13 apples, 6.9ms\n",
            "image 59/100 /content/drive/MyDrive/my cv/dataset_fruit_detection/test/images/20130320T005731-818637-Cam6_62_png.rf.8dfaa4c5f5ee2d3ffb4bfc4f654611b0.jpg: 224x224 5 apples, 6.9ms\n",
            "image 60/100 /content/drive/MyDrive/my cv/dataset_fruit_detection/test/images/20130320T005732-199644-Cam6_21_png.rf.ad8abf44a13652f72c4aa6d34511fcc5.jpg: 224x224 13 apples, 7.6ms\n",
            "image 61/100 /content/drive/MyDrive/my cv/dataset_fruit_detection/test/images/20130320T005733-152039-Cam6_24_png.rf.5fdb8a98ee899f5129a27da602fbc7af.jpg: 224x224 15 apples, 7.0ms\n",
            "image 62/100 /content/drive/MyDrive/my cv/dataset_fruit_detection/test/images/20130320T005733-723551-Cam6_21_png.rf.bf3c53448182001e6a7937b3305a809a.jpg: 224x224 10 apples, 6.9ms\n",
            "image 63/100 /content/drive/MyDrive/my cv/dataset_fruit_detection/test/images/20130320T005736-199727-Cam6_62_png.rf.29ed05c788a9c84af01920c746c64150.jpg: 224x224 2 apples, 6.9ms\n",
            "image 64/100 /content/drive/MyDrive/my cv/dataset_fruit_detection/test/images/20130320T005739-818800-Cam6_43_png.rf.0871706d7553dbc06d1ab2266c5e8903.jpg: 224x224 8 apples, 6.9ms\n",
            "image 65/100 /content/drive/MyDrive/my cv/dataset_fruit_detection/test/images/20130320T005741-342707-Cam6_21_png.rf.a0b42046c5ae71c5e14b62e85a556bb6.jpg: 224x224 9 apples, 6.9ms\n",
            "image 66/100 /content/drive/MyDrive/my cv/dataset_fruit_detection/test/images/20130320T005752-390559-Cam6_23_png.rf.1e59274e0e2a7d4e3e85f2ac075dae83.jpg: 224x224 5 apples, 6.9ms\n",
            "image 67/100 /content/drive/MyDrive/my cv/dataset_fruit_detection/test/images/20130320T005801-343117-Cam6_12_png.rf.5cc48e4bd4f23e96855505506299e44d.jpg: 224x224 5 apples, 6.9ms\n",
            "image 68/100 /content/drive/MyDrive/my cv/dataset_fruit_detection/test/images/20130320T005809-533784-Cam6_12_png.rf.b2dbde56a5daeb1e16ab56689801f1ed.jpg: 224x224 7 apples, 6.9ms\n",
            "image 69/100 /content/drive/MyDrive/my cv/dataset_fruit_detection/test/images/20130320T005812-009959-Cam6_51_png.rf.6e54373617dee95628d514e336667196.jpg: 224x224 9 apples, 6.9ms\n",
            "image 70/100 /content/drive/MyDrive/my cv/dataset_fruit_detection/test/images/20130320T005814-867143-Cam6_12_png.rf.f8e726ca18ddae4f6400ae9aaf61f993.jpg: 224x224 8 apples, 6.9ms\n",
            "image 71/100 /content/drive/MyDrive/my cv/dataset_fruit_detection/test/images/20130320T005913-154079-Cam6_42_png.rf.404b2913506f020c0733c6f441f02c68.jpg: 224x224 8 apples, 6.9ms\n",
            "image 72/100 /content/drive/MyDrive/my cv/dataset_fruit_detection/test/images/20130320T005920-201850-Cam6_63_png.rf.bfc2acbc8ff421a8c21c3f7b577b96fe.jpg: 224x224 2 apples, 6.9ms\n",
            "image 73/100 /content/drive/MyDrive/my cv/dataset_fruit_detection/test/images/20130320T005929-916304-Cam6_22_png.rf.d1bceed0fce12fda52df6f65655db577.jpg: 224x224 5 apples, 6.9ms\n",
            "image 74/100 /content/drive/MyDrive/my cv/dataset_fruit_detection/test/images/20130320T005954-678807-Cam6_42_png.rf.971e789b02090440c145b3b774ac5946.jpg: 224x224 7 apples, 10.3ms\n",
            "image 75/100 /content/drive/MyDrive/my cv/dataset_fruit_detection/test/images/20130320T005956-583597-Cam6_13_png.rf.4747b99525fa0a591104b7b1c48830dc.jpg: 224x224 5 apples, 6.8ms\n",
            "image 76/100 /content/drive/MyDrive/my cv/dataset_fruit_detection/test/images/20130320T010012-964803-Cam6_22_png.rf.a9727ba4292727dbc9782c540c6ff50e.jpg: 224x224 5 apples, 7.0ms\n",
            "image 77/100 /content/drive/MyDrive/my cv/dataset_fruit_detection/test/images/20130320T012823-285182_62_png.rf.0f6ff2a30dee1576bec4ad3db8ade570.jpg: 224x224 5 apples, 7.0ms\n",
            "image 78/100 /content/drive/MyDrive/my cv/dataset_fruit_detection/test/images/20130320T012835-475922_43_png.rf.0addf485de7f65bc6b4c49859ab9b7d8.jpg: 224x224 6 apples, 6.9ms\n",
            "image 79/100 /content/drive/MyDrive/my cv/dataset_fruit_detection/test/images/20130320T012930-334163_22_png.rf.ad51de922777aba7e02f1ca0a7fbfb9f.jpg: 224x224 8 apples, 8.0ms\n",
            "image 80/100 /content/drive/MyDrive/my cv/dataset_fruit_detection/test/images/20130320T012932-238951_32_png.rf.9ca4bf132fd0ecaee9606e89129ef5df.jpg: 224x224 6 apples, 6.9ms\n",
            "image 81/100 /content/drive/MyDrive/my cv/dataset_fruit_detection/test/images/20130320T012946-524989_21_png.rf.92bf174b2706f47b23353137421cf14c.jpg: 224x224 7 apples, 6.9ms\n",
            "image 82/100 /content/drive/MyDrive/my cv/dataset_fruit_detection/test/images/20130320T013020-239945_32_png.rf.0d834ab30d2123f839cb407463714784.jpg: 224x224 6 apples, 7.3ms\n",
            "image 83/100 /content/drive/MyDrive/my cv/dataset_fruit_detection/test/images/20130320T013053-573998_22_png.rf.a37d52ac2cd49c10012bee38ac561469.jpg: 224x224 13 apples, 6.9ms\n",
            "image 84/100 /content/drive/MyDrive/my cv/dataset_fruit_detection/test/images/20130320T013101-574161_42_png.rf.3ced5df89ea9249bc14cc253a3d3a48d.jpg: 224x224 6 apples, 6.9ms\n",
            "image 85/100 /content/drive/MyDrive/my cv/dataset_fruit_detection/test/images/20130320T013107-669539_32_png.rf.480947dfa46c82e6fd5a135020d8dbbf.jpg: 224x224 8 apples, 7.5ms\n",
            "image 86/100 /content/drive/MyDrive/my cv/dataset_fruit_detection/test/images/20130320T013134-146211_43_png.rf.5ff3d1c3f774dc84fe6d93e40ddd6ef7.jpg: 224x224 24 apples, 7.0ms\n",
            "image 87/100 /content/drive/MyDrive/my cv/dataset_fruit_detection/test/images/20130320T013247-671582_31_png.rf.9fad7226990a750c78595f199dab9070.jpg: 224x224 5 apples, 7.0ms\n",
            "image 88/100 /content/drive/MyDrive/my cv/dataset_fruit_detection/test/images/20130320T013317-767435_31_png.rf.0a71d44aa6b97f24016c1bb7272cb88e.jpg: 224x224 6 apples, 7.0ms\n",
            "image 89/100 /content/drive/MyDrive/my cv/dataset_fruit_detection/test/images/20130320T013320-053107_44_png.rf.4c621aab8f9a2c9fd6e8b33a02e7f776.jpg: 224x224 9 apples, 7.0ms\n",
            "image 90/100 /content/drive/MyDrive/my cv/dataset_fruit_detection/test/images/20130320T013322-910417_12_png.rf.7a99070d1251a0b29fcf7e5912dceaae.jpg: 224x224 21 apples, 6.9ms\n",
            "image 91/100 /content/drive/MyDrive/my cv/dataset_fruit_detection/test/images/20130320T013347-672808_22_png.rf.34d886e0f08c3599bbb3204f30efa02a.jpg: 224x224 6 apples, 7.0ms\n",
            "image 92/100 /content/drive/MyDrive/my cv/dataset_fruit_detection/test/images/20130320T013348-625201_64_png.rf.65767eff027758dc8e9b693d8f94bd35.jpg: 224x224 4 apples, 6.9ms\n",
            "image 93/100 /content/drive/MyDrive/my cv/dataset_fruit_detection/test/images/20130320T013431-102178_34_png.rf.c08886d34f3e8d144cb1070e7603b400.jpg: 224x224 4 apples, 7.1ms\n",
            "image 94/100 /content/drive/MyDrive/my cv/dataset_fruit_detection/test/images/20130320T013453-007388_32_png.rf.5c3b19e0f9921dd954fdda42d54619af.jpg: 224x224 18 apples, 6.9ms\n",
            "image 95/100 /content/drive/MyDrive/my cv/dataset_fruit_detection/test/images/20130320T013509-769719_42_png.rf.66633404d432e924f7568668d3819916.jpg: 224x224 7 apples, 6.9ms\n",
            "image 96/100 /content/drive/MyDrive/my cv/dataset_fruit_detection/test/images/20130320T013523-674751_54_png.rf.aaa6e1e9f32e8e82fc410ac00b8e6578.jpg: 224x224 1 apple, 7.1ms\n",
            "image 97/100 /content/drive/MyDrive/my cv/dataset_fruit_detection/test/images/20130320T013606-151743_11_png.rf.bfe8bade0655aaa5a15cae47a793a66a.jpg: 224x224 5 apples, 7.0ms\n",
            "image 98/100 /content/drive/MyDrive/my cv/dataset_fruit_detection/test/images/20130320T013607-104137_43_png.rf.832cc18f4c1b27d6d24a015e8dca3f62.jpg: 224x224 9 apples, 7.2ms\n",
            "image 99/100 /content/drive/MyDrive/my cv/dataset_fruit_detection/test/images/20130320T013611-104218_11_png.rf.2257f2ad89861c7c7d85646e04a1dca1.jpg: 224x224 1 apple, 6.9ms\n",
            "image 100/100 /content/drive/MyDrive/my cv/dataset_fruit_detection/test/images/20130320T013717-200819_33_png.rf.5c5da0d046dbde2e87392cdffc3e1839.jpg: 224x224 8 apples, 6.9ms\n",
            "Speed: 0.2ms pre-process, 7.4ms inference, 7.5ms postprocess per image at shape (1, 3, 224, 224)\n"
          ]
        }
      ],
      "source": [
        "!yolo task=detect mode=predict model=runs/detect/train2/weights/best.pt source='/content/drive/MyDrive/my cv/dataset_fruit_detection/test/images'"
      ]
    },
    {
      "cell_type": "code",
      "execution_count": null,
      "metadata": {
        "colab": {
          "base_uri": "https://localhost:8080/"
        },
        "id": "h6rnN9-X0bG2",
        "outputId": "32e34578-78a7-4958-a05a-d1bad61fbbfc"
      },
      "outputs": [
        {
          "name": "stdout",
          "output_type": "stream",
          "text": [
            "2024-06-18 05:35:11.597361: E external/local_xla/xla/stream_executor/cuda/cuda_dnn.cc:9261] Unable to register cuDNN factory: Attempting to register factory for plugin cuDNN when one has already been registered\n",
            "2024-06-18 05:35:11.597430: E external/local_xla/xla/stream_executor/cuda/cuda_fft.cc:607] Unable to register cuFFT factory: Attempting to register factory for plugin cuFFT when one has already been registered\n",
            "2024-06-18 05:35:11.599369: E external/local_xla/xla/stream_executor/cuda/cuda_blas.cc:1515] Unable to register cuBLAS factory: Attempting to register factory for plugin cuBLAS when one has already been registered\n",
            "2024-06-18 05:35:11.610452: I tensorflow/core/platform/cpu_feature_guard.cc:182] This TensorFlow binary is optimized to use available CPU instructions in performance-critical operations.\n",
            "To enable the following instructions: AVX2 FMA, in other operations, rebuild TensorFlow with the appropriate compiler flags.\n",
            "2024-06-18 05:35:13.369810: W tensorflow/compiler/tf2tensorrt/utils/py_utils.cc:38] TF-TRT Warning: Could not find TensorRT\n",
            "Ultralytics YOLOv8.0.20 🚀 Python-3.10.12 torch-2.3.0+cu121 CUDA:0 (Tesla T4, 15102MiB)\n",
            "Model summary (fused): 168 layers, 11125971 parameters, 0 gradients, 28.4 GFLOPs\n",
            "WARNING ⚠️ NMS time limit 0.550s exceeded\n",
            "image 1/1 /content/apple.jpg: 160x224 7 apples, 67.7ms\n",
            "Speed: 0.4ms pre-process, 67.7ms inference, 610.1ms postprocess per image at shape (1, 3, 224, 224)\n"
          ]
        }
      ],
      "source": [
        "!yolo task=detect mode=predict model=runs/detect/train2/weights/best.pt source='/content/apple.jpg'"
      ]
    },
    {
      "cell_type": "code",
      "execution_count": null,
      "metadata": {
        "id": "N0Gvkcz3gD_5"
      },
      "outputs": [],
      "source": []
    }
  ],
  "metadata": {
    "accelerator": "GPU",
    "colab": {
      "gpuType": "T4",
      "provenance": [],
      "include_colab_link": true
    },
    "kernelspec": {
      "display_name": "Python 3",
      "name": "python3"
    },
    "language_info": {
      "name": "python"
    }
  },
  "nbformat": 4,
  "nbformat_minor": 0
}